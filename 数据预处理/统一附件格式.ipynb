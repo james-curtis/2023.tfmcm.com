{
 "cells": [
  {
   "cell_type": "code",
   "execution_count": 1,
   "metadata": {
    "collapsed": true,
    "ExecuteTime": {
     "end_time": "2023-06-02T08:28:06.455657300Z",
     "start_time": "2023-06-02T08:28:06.441424200Z"
    }
   },
   "outputs": [],
   "source": [
    "import pandas as pd\n",
    "import numpy as np\n",
    "import seaborn as sns\n",
    "import matplotlib.pyplot as plt\n",
    "import os\n",
    "import tqdm\n",
    "import re\n",
    "\n",
    "plt.rcParams['font.sans-serif'] = ['SimHei']  # 黑体\n",
    "plt.rcParams['axes.unicode_minus'] = False  # 解决无法显示符号的问题\n",
    "palette = 'deep'\n",
    "sns.set(font='SimHei', font_scale=1.2, palette=palette)  # 解决Seaborn中文显示问题"
   ]
  },
  {
   "cell_type": "code",
   "execution_count": 2,
   "outputs": [
    {
     "data": {
      "text/plain": "['../3rd天府杯A提/附件1\\\\1.txt',\n '../3rd天府杯A提/附件1\\\\10.txt',\n '../3rd天府杯A提/附件1\\\\11.txt',\n '../3rd天府杯A提/附件1\\\\12.txt',\n '../3rd天府杯A提/附件1\\\\13.txt',\n '../3rd天府杯A提/附件1\\\\14.txt',\n '../3rd天府杯A提/附件1\\\\15.txt',\n '../3rd天府杯A提/附件1\\\\16.txt',\n '../3rd天府杯A提/附件1\\\\17.txt',\n '../3rd天府杯A提/附件1\\\\18.txt',\n '../3rd天府杯A提/附件1\\\\19.txt',\n '../3rd天府杯A提/附件1\\\\2.txt',\n '../3rd天府杯A提/附件1\\\\20.txt',\n '../3rd天府杯A提/附件1\\\\3.txt',\n '../3rd天府杯A提/附件1\\\\4.txt',\n '../3rd天府杯A提/附件1\\\\5.txt',\n '../3rd天府杯A提/附件1\\\\6.txt',\n '../3rd天府杯A提/附件1\\\\7.txt',\n '../3rd天府杯A提/附件1\\\\8.txt',\n '../3rd天府杯A提/附件1\\\\9.txt',\n '../3rd天府杯A提/附件2\\\\1.txt',\n '../3rd天府杯A提/附件2\\\\10.txt',\n '../3rd天府杯A提/附件2\\\\11.txt',\n '../3rd天府杯A提/附件2\\\\12.txt',\n '../3rd天府杯A提/附件2\\\\13.txt',\n '../3rd天府杯A提/附件2\\\\14.txt',\n '../3rd天府杯A提/附件2\\\\15.txt',\n '../3rd天府杯A提/附件2\\\\16.txt',\n '../3rd天府杯A提/附件2\\\\17.txt',\n '../3rd天府杯A提/附件2\\\\18.txt',\n '../3rd天府杯A提/附件2\\\\19.txt',\n '../3rd天府杯A提/附件2\\\\2.txt',\n '../3rd天府杯A提/附件2\\\\20.txt',\n '../3rd天府杯A提/附件2\\\\3.txt',\n '../3rd天府杯A提/附件2\\\\4.txt',\n '../3rd天府杯A提/附件2\\\\5.txt',\n '../3rd天府杯A提/附件2\\\\6.txt',\n '../3rd天府杯A提/附件2\\\\7.txt',\n '../3rd天府杯A提/附件2\\\\8.txt',\n '../3rd天府杯A提/附件2\\\\9.txt',\n '../3rd天府杯A提/附件3\\\\1.txt',\n '../3rd天府杯A提/附件3\\\\10.txt',\n '../3rd天府杯A提/附件3\\\\11.txt',\n '../3rd天府杯A提/附件3\\\\12.txt',\n '../3rd天府杯A提/附件3\\\\13.txt',\n '../3rd天府杯A提/附件3\\\\14.txt',\n '../3rd天府杯A提/附件3\\\\15.txt',\n '../3rd天府杯A提/附件3\\\\16.txt',\n '../3rd天府杯A提/附件3\\\\17.txt',\n '../3rd天府杯A提/附件3\\\\18.txt',\n '../3rd天府杯A提/附件3\\\\19.txt',\n '../3rd天府杯A提/附件3\\\\2.txt',\n '../3rd天府杯A提/附件3\\\\20.txt',\n '../3rd天府杯A提/附件3\\\\3.txt',\n '../3rd天府杯A提/附件3\\\\4.txt',\n '../3rd天府杯A提/附件3\\\\5.txt',\n '../3rd天府杯A提/附件3\\\\6.txt',\n '../3rd天府杯A提/附件3\\\\7.txt',\n '../3rd天府杯A提/附件3\\\\8.txt',\n '../3rd天府杯A提/附件3\\\\9.txt',\n '../3rd天府杯A提/附件4\\\\1.txt',\n '../3rd天府杯A提/附件4\\\\10.txt',\n '../3rd天府杯A提/附件4\\\\11.txt',\n '../3rd天府杯A提/附件4\\\\12.txt',\n '../3rd天府杯A提/附件4\\\\13.txt',\n '../3rd天府杯A提/附件4\\\\14.txt',\n '../3rd天府杯A提/附件4\\\\15.txt',\n '../3rd天府杯A提/附件4\\\\16.txt',\n '../3rd天府杯A提/附件4\\\\17.txt',\n '../3rd天府杯A提/附件4\\\\18.txt',\n '../3rd天府杯A提/附件4\\\\19.txt',\n '../3rd天府杯A提/附件4\\\\2.txt',\n '../3rd天府杯A提/附件4\\\\20.txt',\n '../3rd天府杯A提/附件4\\\\3.txt',\n '../3rd天府杯A提/附件4\\\\4.txt',\n '../3rd天府杯A提/附件4\\\\5.txt',\n '../3rd天府杯A提/附件4\\\\6.txt',\n '../3rd天府杯A提/附件4\\\\7.txt',\n '../3rd天府杯A提/附件4\\\\8.txt',\n '../3rd天府杯A提/附件4\\\\9.txt',\n '../3rd天府杯A提/附件5\\\\1.txt',\n '../3rd天府杯A提/附件5\\\\10.txt',\n '../3rd天府杯A提/附件5\\\\11.txt',\n '../3rd天府杯A提/附件5\\\\12.txt',\n '../3rd天府杯A提/附件5\\\\13.txt',\n '../3rd天府杯A提/附件5\\\\14.txt',\n '../3rd天府杯A提/附件5\\\\15.txt',\n '../3rd天府杯A提/附件5\\\\16.txt',\n '../3rd天府杯A提/附件5\\\\17.txt',\n '../3rd天府杯A提/附件5\\\\18.txt',\n '../3rd天府杯A提/附件5\\\\19.txt',\n '../3rd天府杯A提/附件5\\\\2.txt',\n '../3rd天府杯A提/附件5\\\\20.txt',\n '../3rd天府杯A提/附件5\\\\3.txt',\n '../3rd天府杯A提/附件5\\\\4.txt',\n '../3rd天府杯A提/附件5\\\\5.txt',\n '../3rd天府杯A提/附件5\\\\6.txt',\n '../3rd天府杯A提/附件5\\\\7.txt',\n '../3rd天府杯A提/附件5\\\\8.txt',\n '../3rd天府杯A提/附件5\\\\9.txt',\n '../3rd天府杯A提/附件6\\\\1.txt',\n '../3rd天府杯A提/附件6\\\\10.txt',\n '../3rd天府杯A提/附件6\\\\11.txt',\n '../3rd天府杯A提/附件6\\\\12.txt',\n '../3rd天府杯A提/附件6\\\\13.txt',\n '../3rd天府杯A提/附件6\\\\14.txt',\n '../3rd天府杯A提/附件6\\\\15.txt',\n '../3rd天府杯A提/附件6\\\\16.txt',\n '../3rd天府杯A提/附件6\\\\17.txt',\n '../3rd天府杯A提/附件6\\\\18.txt',\n '../3rd天府杯A提/附件6\\\\19.txt',\n '../3rd天府杯A提/附件6\\\\2.txt',\n '../3rd天府杯A提/附件6\\\\20.txt',\n '../3rd天府杯A提/附件6\\\\3.txt',\n '../3rd天府杯A提/附件6\\\\4.txt',\n '../3rd天府杯A提/附件6\\\\5.txt',\n '../3rd天府杯A提/附件6\\\\6.txt',\n '../3rd天府杯A提/附件6\\\\7.txt',\n '../3rd天府杯A提/附件6\\\\8.txt',\n '../3rd天府杯A提/附件6\\\\9.txt',\n '../3rd天府杯A提/附件7\\\\1.txt',\n '../3rd天府杯A提/附件7\\\\10.txt',\n '../3rd天府杯A提/附件7\\\\11.txt',\n '../3rd天府杯A提/附件7\\\\12.txt',\n '../3rd天府杯A提/附件7\\\\13.txt',\n '../3rd天府杯A提/附件7\\\\14.txt',\n '../3rd天府杯A提/附件7\\\\15.txt',\n '../3rd天府杯A提/附件7\\\\16.txt',\n '../3rd天府杯A提/附件7\\\\17.txt',\n '../3rd天府杯A提/附件7\\\\18.txt',\n '../3rd天府杯A提/附件7\\\\19.txt',\n '../3rd天府杯A提/附件7\\\\2.txt',\n '../3rd天府杯A提/附件7\\\\20.txt',\n '../3rd天府杯A提/附件7\\\\3.txt',\n '../3rd天府杯A提/附件7\\\\4.txt',\n '../3rd天府杯A提/附件7\\\\5.txt',\n '../3rd天府杯A提/附件7\\\\6.txt',\n '../3rd天府杯A提/附件7\\\\7.txt',\n '../3rd天府杯A提/附件7\\\\8.txt',\n '../3rd天府杯A提/附件7\\\\9.txt',\n '../3rd天府杯A提/附件8\\\\1.txt',\n '../3rd天府杯A提/附件8\\\\10.txt',\n '../3rd天府杯A提/附件8\\\\11.txt',\n '../3rd天府杯A提/附件8\\\\12.txt',\n '../3rd天府杯A提/附件8\\\\13.txt',\n '../3rd天府杯A提/附件8\\\\14.txt',\n '../3rd天府杯A提/附件8\\\\15.txt',\n '../3rd天府杯A提/附件8\\\\16.txt',\n '../3rd天府杯A提/附件8\\\\17.txt',\n '../3rd天府杯A提/附件8\\\\18.txt',\n '../3rd天府杯A提/附件8\\\\19.txt',\n '../3rd天府杯A提/附件8\\\\2.txt',\n '../3rd天府杯A提/附件8\\\\20.txt',\n '../3rd天府杯A提/附件8\\\\21.txt',\n '../3rd天府杯A提/附件8\\\\22.txt',\n '../3rd天府杯A提/附件8\\\\23.txt',\n '../3rd天府杯A提/附件8\\\\24.txt',\n '../3rd天府杯A提/附件8\\\\25.txt',\n '../3rd天府杯A提/附件8\\\\26.txt',\n '../3rd天府杯A提/附件8\\\\27.txt',\n '../3rd天府杯A提/附件8\\\\28.txt',\n '../3rd天府杯A提/附件8\\\\29.txt',\n '../3rd天府杯A提/附件8\\\\3.txt',\n '../3rd天府杯A提/附件8\\\\30.txt',\n '../3rd天府杯A提/附件8\\\\4.txt',\n '../3rd天府杯A提/附件8\\\\5.txt',\n '../3rd天府杯A提/附件8\\\\6.txt',\n '../3rd天府杯A提/附件8\\\\7.txt',\n '../3rd天府杯A提/附件8\\\\8.txt',\n '../3rd天府杯A提/附件8\\\\9.txt']"
     },
     "execution_count": 2,
     "metadata": {},
     "output_type": "execute_result"
    }
   ],
   "source": [
    "\n",
    "attachList = []\n",
    "for dirI in range(1, 9):\n",
    "    for root, _, files in os.walk(f'../3rd天府杯A提/附件{dirI}'):\n",
    "        attachList += [f'{os.path.join(root, i)}' for i in files]\n",
    "\n",
    "attachList"
   ],
   "metadata": {
    "collapsed": false,
    "ExecuteTime": {
     "end_time": "2023-06-02T08:28:22.576855400Z",
     "start_time": "2023-06-02T08:28:22.559855100Z"
    }
   }
  },
  {
   "cell_type": "code",
   "execution_count": 21,
   "outputs": [
    {
     "name": "stderr",
     "output_type": "stream",
     "text": [
      "100%|██████████| 170/170 [00:00<00:00, 263.57it/s]\n"
     ]
    }
   ],
   "source": [
    "tqdmList = tqdm.tqdm(attachList)\n",
    "for i in tqdmList:\n",
    "    with open(i, 'r', encoding='utf-8') as f:\n",
    "        text = f.read()\n",
    "        text = re.sub(r'[\\s\\n\\r]+', r'\\n', text)\n",
    "        text = text.strip()\n",
    "    with open(i, 'w', encoding='utf-8') as f:\n",
    "        f.write(text)"
   ],
   "metadata": {
    "collapsed": false,
    "ExecuteTime": {
     "end_time": "2023-06-02T08:40:07.020061600Z",
     "start_time": "2023-06-02T08:40:06.359072600Z"
    }
   }
  },
  {
   "cell_type": "code",
   "execution_count": null,
   "outputs": [],
   "source": [],
   "metadata": {
    "collapsed": false
   }
  }
 ],
 "metadata": {
  "kernelspec": {
   "display_name": "Python 3",
   "language": "python",
   "name": "python3"
  },
  "language_info": {
   "codemirror_mode": {
    "name": "ipython",
    "version": 2
   },
   "file_extension": ".py",
   "mimetype": "text/x-python",
   "name": "python",
   "nbconvert_exporter": "python",
   "pygments_lexer": "ipython2",
   "version": "2.7.6"
  }
 },
 "nbformat": 4,
 "nbformat_minor": 0
}
