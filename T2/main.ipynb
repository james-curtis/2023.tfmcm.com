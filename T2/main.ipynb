{
 "cells": [
  {
   "cell_type": "code",
   "execution_count": 1,
   "metadata": {
    "collapsed": true,
    "ExecuteTime": {
     "end_time": "2023-06-03T09:00:30.645427100Z",
     "start_time": "2023-06-03T09:00:30.119476800Z"
    }
   },
   "outputs": [],
   "source": [
    "import pandas as pd\n",
    "import numpy as np\n",
    "import seaborn as sns\n",
    "import matplotlib.pyplot as plt\n",
    "import os\n",
    "import tqdm\n",
    "import re\n",
    "from sklearn import preprocessing\n",
    "import librosa\n",
    "from imblearn.combine import *\n",
    "from sklearn.model_selection import *\n",
    "from sklearn.metrics import *\n",
    "from sklearn import svm\n",
    "\n",
    "plt.rcParams['font.sans-serif'] = ['SimHei']  # 黑体\n",
    "plt.rcParams['axes.unicode_minus'] = False  # 解决无法显示符号的问题\n",
    "palette = 'deep'\n",
    "sns.set(font='SimHei', font_scale=1.2, palette=palette, style='white')  # 解决Seaborn中文显示问题"
   ]
  },
  {
   "cell_type": "code",
   "execution_count": 7,
   "outputs": [
    {
     "name": "stderr",
     "output_type": "stream",
     "text": [
      "../3rd天府杯A提/附件9\\20.txt: 100%|██████████| 160/160 [00:03<00:00, 49.31it/s]\n"
     ]
    }
   ],
   "source": [
    "from util import load\n",
    "\n",
    "df, attachList = load.load(list(range(1, 7 + 1)) + [9])"
   ],
   "metadata": {
    "collapsed": false,
    "ExecuteTime": {
     "end_time": "2023-06-03T09:09:30.190235600Z",
     "start_time": "2023-06-03T09:09:26.930954300Z"
    }
   }
  },
  {
   "cell_type": "code",
   "execution_count": 8,
   "outputs": [
    {
     "data": {
      "text/plain": "           1-1       1-2       1-3       1-4       1-5       1-6       1-7  \\\n0     0.031847  0.016663  0.020103  0.005837 -0.011276 -0.025771  0.021692   \n1    -0.011189 -0.002048  0.006537  0.023145  0.012113 -0.017351  0.010933   \n2    -0.019609 -0.007661 -0.002818  0.003030  0.021468 -0.009866  0.007658   \n3     0.019685  0.007308 -0.002351 -0.019423  0.004160 -0.003318  0.005787   \n4    -0.020076  0.001226 -0.020594  0.016596  0.013048 -0.015948 -0.000294   \n...        ...       ...       ...       ...       ...       ...       ...   \n7995 -2.936200  1.122488  1.303684 -0.291669 -0.145528  0.035976  0.138636   \n7996 -3.392283  2.000974  0.883152 -0.199985  0.457904  0.205311  0.186349   \n7997 -2.868840  1.194994  0.248846  0.020338  0.813415  0.481300  0.176526   \n7998 -2.935732 -0.888954 -0.528132  0.284164  0.943457  0.712382  0.149862   \n7999 -2.460470 -1.931161 -1.347678  0.463791  0.778332  0.655313  0.061453   \n\n           1-8       1-9      1-10  ...      9-11      9-12      9-13  \\\n0     0.009281  0.010529  0.001247  ...  0.093444 -0.039594  0.034525   \n1    -0.003817  0.004915 -0.007641  ... -0.098345 -0.065790  0.022830   \n2    -0.004752  0.003980 -0.002028  ... -0.083844 -0.049886  0.032186   \n3    -0.018318 -0.022216 -0.028223  ...  0.122446  0.003441  0.058382   \n4    -0.023931  0.003045 -0.024481  ...  0.131334 -0.002640  0.060253   \n...        ...       ...       ...  ...       ...       ...       ...   \n7995 -0.077726  0.077889 -0.176508  ...  7.072680  0.896428  0.855474   \n7996 -0.010833  0.116246 -0.133005  ...  5.946740 -2.363980  0.868572   \n7997 -0.000075  0.141039 -0.115230  ...  3.495588 -5.519137  0.892896   \n7998 -0.014108  0.181735 -0.082953  ...  0.451293 -7.890768  0.886815   \n7999 -0.024399  0.222900 -0.043660  ... -2.047573 -8.780012  0.887751   \n\n          9-14      9-15      9-16      9-17      9-18      9-19      9-20  \n0    -0.017206  0.037083  0.014242 -0.005727  0.001487 -0.004651  0.000754  \n1    -0.015803  0.024453  0.000677 -0.000582  0.009907 -0.003247 -0.007198  \n2    -0.002705  0.038019 -0.008679  0.014387 -0.004594 -0.002780 -0.005327  \n3     0.015070  0.046439  0.006290 -0.005260  0.001954 -0.003247  0.011045  \n4     0.030507  0.049245 -0.009614  0.004564  0.000083 -0.017748 -0.010472  \n...        ...       ...       ...       ...       ...       ...       ...  \n7995 -0.456449 -0.032148  0.131654 -0.293878  0.063701  0.110423 -1.465260  \n7996 -0.477967 -0.014840  0.351510 -0.117994  0.176903  0.114165 -1.481632  \n7997 -0.539246 -0.015308  0.576511  0.027017  0.240989  0.117439 -1.503617  \n7998 -0.575732 -0.023728  0.787946  0.161269  0.239118  0.108551 -1.546653  \n7999 -0.613622 -0.010630  0.948394  0.248744  0.148837  0.087034 -1.613077  \n\n[8000 rows x 160 columns]",
      "text/html": "<div>\n<style scoped>\n    .dataframe tbody tr th:only-of-type {\n        vertical-align: middle;\n    }\n\n    .dataframe tbody tr th {\n        vertical-align: top;\n    }\n\n    .dataframe thead th {\n        text-align: right;\n    }\n</style>\n<table border=\"1\" class=\"dataframe\">\n  <thead>\n    <tr style=\"text-align: right;\">\n      <th></th>\n      <th>1-1</th>\n      <th>1-2</th>\n      <th>1-3</th>\n      <th>1-4</th>\n      <th>1-5</th>\n      <th>1-6</th>\n      <th>1-7</th>\n      <th>1-8</th>\n      <th>1-9</th>\n      <th>1-10</th>\n      <th>...</th>\n      <th>9-11</th>\n      <th>9-12</th>\n      <th>9-13</th>\n      <th>9-14</th>\n      <th>9-15</th>\n      <th>9-16</th>\n      <th>9-17</th>\n      <th>9-18</th>\n      <th>9-19</th>\n      <th>9-20</th>\n    </tr>\n  </thead>\n  <tbody>\n    <tr>\n      <th>0</th>\n      <td>0.031847</td>\n      <td>0.016663</td>\n      <td>0.020103</td>\n      <td>0.005837</td>\n      <td>-0.011276</td>\n      <td>-0.025771</td>\n      <td>0.021692</td>\n      <td>0.009281</td>\n      <td>0.010529</td>\n      <td>0.001247</td>\n      <td>...</td>\n      <td>0.093444</td>\n      <td>-0.039594</td>\n      <td>0.034525</td>\n      <td>-0.017206</td>\n      <td>0.037083</td>\n      <td>0.014242</td>\n      <td>-0.005727</td>\n      <td>0.001487</td>\n      <td>-0.004651</td>\n      <td>0.000754</td>\n    </tr>\n    <tr>\n      <th>1</th>\n      <td>-0.011189</td>\n      <td>-0.002048</td>\n      <td>0.006537</td>\n      <td>0.023145</td>\n      <td>0.012113</td>\n      <td>-0.017351</td>\n      <td>0.010933</td>\n      <td>-0.003817</td>\n      <td>0.004915</td>\n      <td>-0.007641</td>\n      <td>...</td>\n      <td>-0.098345</td>\n      <td>-0.065790</td>\n      <td>0.022830</td>\n      <td>-0.015803</td>\n      <td>0.024453</td>\n      <td>0.000677</td>\n      <td>-0.000582</td>\n      <td>0.009907</td>\n      <td>-0.003247</td>\n      <td>-0.007198</td>\n    </tr>\n    <tr>\n      <th>2</th>\n      <td>-0.019609</td>\n      <td>-0.007661</td>\n      <td>-0.002818</td>\n      <td>0.003030</td>\n      <td>0.021468</td>\n      <td>-0.009866</td>\n      <td>0.007658</td>\n      <td>-0.004752</td>\n      <td>0.003980</td>\n      <td>-0.002028</td>\n      <td>...</td>\n      <td>-0.083844</td>\n      <td>-0.049886</td>\n      <td>0.032186</td>\n      <td>-0.002705</td>\n      <td>0.038019</td>\n      <td>-0.008679</td>\n      <td>0.014387</td>\n      <td>-0.004594</td>\n      <td>-0.002780</td>\n      <td>-0.005327</td>\n    </tr>\n    <tr>\n      <th>3</th>\n      <td>0.019685</td>\n      <td>0.007308</td>\n      <td>-0.002351</td>\n      <td>-0.019423</td>\n      <td>0.004160</td>\n      <td>-0.003318</td>\n      <td>0.005787</td>\n      <td>-0.018318</td>\n      <td>-0.022216</td>\n      <td>-0.028223</td>\n      <td>...</td>\n      <td>0.122446</td>\n      <td>0.003441</td>\n      <td>0.058382</td>\n      <td>0.015070</td>\n      <td>0.046439</td>\n      <td>0.006290</td>\n      <td>-0.005260</td>\n      <td>0.001954</td>\n      <td>-0.003247</td>\n      <td>0.011045</td>\n    </tr>\n    <tr>\n      <th>4</th>\n      <td>-0.020076</td>\n      <td>0.001226</td>\n      <td>-0.020594</td>\n      <td>0.016596</td>\n      <td>0.013048</td>\n      <td>-0.015948</td>\n      <td>-0.000294</td>\n      <td>-0.023931</td>\n      <td>0.003045</td>\n      <td>-0.024481</td>\n      <td>...</td>\n      <td>0.131334</td>\n      <td>-0.002640</td>\n      <td>0.060253</td>\n      <td>0.030507</td>\n      <td>0.049245</td>\n      <td>-0.009614</td>\n      <td>0.004564</td>\n      <td>0.000083</td>\n      <td>-0.017748</td>\n      <td>-0.010472</td>\n    </tr>\n    <tr>\n      <th>...</th>\n      <td>...</td>\n      <td>...</td>\n      <td>...</td>\n      <td>...</td>\n      <td>...</td>\n      <td>...</td>\n      <td>...</td>\n      <td>...</td>\n      <td>...</td>\n      <td>...</td>\n      <td>...</td>\n      <td>...</td>\n      <td>...</td>\n      <td>...</td>\n      <td>...</td>\n      <td>...</td>\n      <td>...</td>\n      <td>...</td>\n      <td>...</td>\n      <td>...</td>\n      <td>...</td>\n    </tr>\n    <tr>\n      <th>7995</th>\n      <td>-2.936200</td>\n      <td>1.122488</td>\n      <td>1.303684</td>\n      <td>-0.291669</td>\n      <td>-0.145528</td>\n      <td>0.035976</td>\n      <td>0.138636</td>\n      <td>-0.077726</td>\n      <td>0.077889</td>\n      <td>-0.176508</td>\n      <td>...</td>\n      <td>7.072680</td>\n      <td>0.896428</td>\n      <td>0.855474</td>\n      <td>-0.456449</td>\n      <td>-0.032148</td>\n      <td>0.131654</td>\n      <td>-0.293878</td>\n      <td>0.063701</td>\n      <td>0.110423</td>\n      <td>-1.465260</td>\n    </tr>\n    <tr>\n      <th>7996</th>\n      <td>-3.392283</td>\n      <td>2.000974</td>\n      <td>0.883152</td>\n      <td>-0.199985</td>\n      <td>0.457904</td>\n      <td>0.205311</td>\n      <td>0.186349</td>\n      <td>-0.010833</td>\n      <td>0.116246</td>\n      <td>-0.133005</td>\n      <td>...</td>\n      <td>5.946740</td>\n      <td>-2.363980</td>\n      <td>0.868572</td>\n      <td>-0.477967</td>\n      <td>-0.014840</td>\n      <td>0.351510</td>\n      <td>-0.117994</td>\n      <td>0.176903</td>\n      <td>0.114165</td>\n      <td>-1.481632</td>\n    </tr>\n    <tr>\n      <th>7997</th>\n      <td>-2.868840</td>\n      <td>1.194994</td>\n      <td>0.248846</td>\n      <td>0.020338</td>\n      <td>0.813415</td>\n      <td>0.481300</td>\n      <td>0.176526</td>\n      <td>-0.000075</td>\n      <td>0.141039</td>\n      <td>-0.115230</td>\n      <td>...</td>\n      <td>3.495588</td>\n      <td>-5.519137</td>\n      <td>0.892896</td>\n      <td>-0.539246</td>\n      <td>-0.015308</td>\n      <td>0.576511</td>\n      <td>0.027017</td>\n      <td>0.240989</td>\n      <td>0.117439</td>\n      <td>-1.503617</td>\n    </tr>\n    <tr>\n      <th>7998</th>\n      <td>-2.935732</td>\n      <td>-0.888954</td>\n      <td>-0.528132</td>\n      <td>0.284164</td>\n      <td>0.943457</td>\n      <td>0.712382</td>\n      <td>0.149862</td>\n      <td>-0.014108</td>\n      <td>0.181735</td>\n      <td>-0.082953</td>\n      <td>...</td>\n      <td>0.451293</td>\n      <td>-7.890768</td>\n      <td>0.886815</td>\n      <td>-0.575732</td>\n      <td>-0.023728</td>\n      <td>0.787946</td>\n      <td>0.161269</td>\n      <td>0.239118</td>\n      <td>0.108551</td>\n      <td>-1.546653</td>\n    </tr>\n    <tr>\n      <th>7999</th>\n      <td>-2.460470</td>\n      <td>-1.931161</td>\n      <td>-1.347678</td>\n      <td>0.463791</td>\n      <td>0.778332</td>\n      <td>0.655313</td>\n      <td>0.061453</td>\n      <td>-0.024399</td>\n      <td>0.222900</td>\n      <td>-0.043660</td>\n      <td>...</td>\n      <td>-2.047573</td>\n      <td>-8.780012</td>\n      <td>0.887751</td>\n      <td>-0.613622</td>\n      <td>-0.010630</td>\n      <td>0.948394</td>\n      <td>0.248744</td>\n      <td>0.148837</td>\n      <td>0.087034</td>\n      <td>-1.613077</td>\n    </tr>\n  </tbody>\n</table>\n<p>8000 rows × 160 columns</p>\n</div>"
     },
     "execution_count": 8,
     "metadata": {},
     "output_type": "execute_result"
    }
   ],
   "source": [
    "df"
   ],
   "metadata": {
    "collapsed": false,
    "ExecuteTime": {
     "end_time": "2023-06-03T09:09:31.000123200Z",
     "start_time": "2023-06-03T09:09:30.976119200Z"
    }
   }
  },
  {
   "cell_type": "code",
   "execution_count": null,
   "outputs": [],
   "source": [],
   "metadata": {
    "collapsed": false
   }
  }
 ],
 "metadata": {
  "kernelspec": {
   "display_name": "Python 3",
   "language": "python",
   "name": "python3"
  },
  "language_info": {
   "codemirror_mode": {
    "name": "ipython",
    "version": 2
   },
   "file_extension": ".py",
   "mimetype": "text/x-python",
   "name": "python",
   "nbconvert_exporter": "python",
   "pygments_lexer": "ipython2",
   "version": "2.7.6"
  }
 },
 "nbformat": 4,
 "nbformat_minor": 0
}
