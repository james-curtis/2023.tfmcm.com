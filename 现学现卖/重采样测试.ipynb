{
 "cells": [
  {
   "cell_type": "code",
   "execution_count": 1,
   "metadata": {
    "collapsed": true,
    "ExecuteTime": {
     "end_time": "2023-06-03T07:51:06.694416700Z",
     "start_time": "2023-06-03T07:51:05.658780600Z"
    }
   },
   "outputs": [
    {
     "name": "stdout",
     "output_type": "stream",
     "text": [
      "采样前的样本数量： 800\n",
      "采样后的样本数量： 1569\n"
     ]
    }
   ],
   "source": [
    "from imblearn.combine import SMOTEENN\n",
    "from sklearn.datasets import make_classification\n",
    "from sklearn.model_selection import train_test_split\n",
    "\n",
    "# 生成不均衡数据集\n",
    "X, y = make_classification(\n",
    "    n_samples=1000, n_features=20, n_informative=2,\n",
    "    n_redundant=10, n_clusters_per_class=1, weights=[0.99],\n",
    "    flip_y=0, random_state=1\n",
    ")\n",
    "\n",
    "# 划分训练集和测试集\n",
    "X_train, X_test, y_train, y_test = train_test_split(X, y, test_size=0.2, random_state=1)\n",
    "\n",
    "# 使用采样-SMOTE ENN\n",
    "smote_enn = SMOTEENN()\n",
    "X_train_resampled, y_train_resampled = smote_enn.fit_resample(X_train, y_train)\n",
    "\n",
    "# 打印采样后的样本数量\n",
    "print(\"采样前的样本数量：\", len(X_train))\n",
    "print(\"采样后的样本数量：\", len(X_train_resampled))\n",
    "\n",
    "# 在采样后的数据上训练模型\n",
    "# ...\n",
    "\n"
   ]
  },
  {
   "cell_type": "code",
   "execution_count": null,
   "outputs": [],
   "source": [],
   "metadata": {
    "collapsed": false
   }
  }
 ],
 "metadata": {
  "kernelspec": {
   "display_name": "Python 3",
   "language": "python",
   "name": "python3"
  },
  "language_info": {
   "codemirror_mode": {
    "name": "ipython",
    "version": 2
   },
   "file_extension": ".py",
   "mimetype": "text/x-python",
   "name": "python",
   "nbconvert_exporter": "python",
   "pygments_lexer": "ipython2",
   "version": "2.7.6"
  }
 },
 "nbformat": 4,
 "nbformat_minor": 0
}
