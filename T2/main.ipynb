{
 "cells": [
  {
   "cell_type": "code",
   "execution_count": 1,
   "metadata": {
    "collapsed": true,
    "ExecuteTime": {
     "end_time": "2023-06-03T09:00:30.645427100Z",
     "start_time": "2023-06-03T09:00:30.119476800Z"
    }
   },
   "outputs": [],
   "source": [
    "import pandas as pd\n",
    "import numpy as np\n",
    "import seaborn as sns\n",
    "import matplotlib.pyplot as plt\n",
    "import os\n",
    "import tqdm\n",
    "import re\n",
    "from sklearn import preprocessing\n",
    "import librosa\n",
    "from imblearn.combine import *\n",
    "from sklearn.model_selection import *\n",
    "from sklearn.metrics import *\n",
    "from sklearn import svm\n",
    "\n",
    "plt.rcParams['font.sans-serif'] = ['SimHei']  # 黑体\n",
    "plt.rcParams['axes.unicode_minus'] = False  # 解决无法显示符号的问题\n",
    "palette = 'deep'\n",
    "sns.set(font='SimHei', font_scale=1.2, palette=palette, style='white')  # 解决Seaborn中文显示问题"
   ]
  },
  {
   "cell_type": "code",
   "execution_count": 4,
   "outputs": [
    {
     "name": "stderr",
     "output_type": "stream",
     "text": [
      "../3rd天府杯A提/附件7\\20.txt: 100%|██████████| 140/140 [00:02<00:00, 48.93it/s]\n"
     ]
    }
   ],
   "source": [
    "from util import load\n",
    "\n",
    "df, attachList = load.load(list(range(1, 7 + 1)))"
   ],
   "metadata": {
    "collapsed": false,
    "ExecuteTime": {
     "end_time": "2023-06-03T09:08:42.933476300Z",
     "start_time": "2023-06-03T09:08:40.054978500Z"
    }
   }
  },
  {
   "cell_type": "code",
   "execution_count": 5,
   "outputs": [
    {
     "data": {
      "text/plain": "           1-1       1-2       1-3       1-4       1-5       1-6       1-7  \\\n0     0.031847  0.016663  0.020103  0.005837 -0.011276 -0.025771  0.021692   \n1    -0.011189 -0.002048  0.006537  0.023145  0.012113 -0.017351  0.010933   \n2    -0.019609 -0.007661 -0.002818  0.003030  0.021468 -0.009866  0.007658   \n3     0.019685  0.007308 -0.002351 -0.019423  0.004160 -0.003318  0.005787   \n4    -0.020076  0.001226 -0.020594  0.016596  0.013048 -0.015948 -0.000294   \n...        ...       ...       ...       ...       ...       ...       ...   \n7995 -2.936200  1.122488  1.303684 -0.291669 -0.145528  0.035976  0.138636   \n7996 -3.392283  2.000974  0.883152 -0.199985  0.457904  0.205311  0.186349   \n7997 -2.868840  1.194994  0.248846  0.020338  0.813415  0.481300  0.176526   \n7998 -2.935732 -0.888954 -0.528132  0.284164  0.943457  0.712382  0.149862   \n7999 -2.460470 -1.931161 -1.347678  0.463791  0.778332  0.655313  0.061453   \n\n           1-8       1-9      1-10  ...       7-11      7-12      7-13  \\\n0     0.009281  0.010529  0.001247  ...  -0.117107 -0.074528  0.624229   \n1    -0.003817  0.004915 -0.007641  ...  -0.113252 -0.086088  0.658908   \n2    -0.004752  0.003980 -0.002028  ...  -0.113252 -0.105354  0.709001   \n3    -0.018318 -0.022216 -0.028223  ...  -0.128671 -0.086088  0.766799   \n4    -0.023931  0.003045 -0.024481  ...  -0.093978 -0.093794  0.828451   \n...        ...       ...       ...  ...        ...       ...       ...   \n7995 -0.077726  0.077889 -0.176508  ...  -2.349002  2.210447  2.928470   \n7996 -0.010833  0.116246 -0.133005  ...   1.212779  2.722928  2.905350   \n7997 -0.000075  0.141039 -0.115230  ...   3.170988  4.869186  2.893791   \n7998 -0.014108  0.181735 -0.082953  ...   6.343440  6.714890  2.859112   \n7999 -0.024399  0.222900 -0.043660  ...  11.385440  8.868855  2.797460   \n\n          7-14      7-15      7-16      7-17      7-18      7-19      7-20  \n0     0.301207  0.474272  0.045762 -0.668258  1.265104  0.004534 -0.009769  \n1     0.339724  0.458840 -0.077554 -0.833916  1.110840  0.004534  0.005652  \n2     0.378242  0.466556 -0.154626 -0.972605  0.891012  0.004534 -0.013624  \n3     0.428314  0.466556 -0.177748 -1.061213  0.651903  0.000677 -0.009769  \n4     0.470684  0.412548 -0.158480 -1.057360  0.432077  0.000677  0.001797  \n...        ...       ...       ...       ...       ...       ...       ...  \n7995  1.283404 -2.303295  0.038054 -3.661649 -0.705624 -4.005563 -4.921185  \n7996  1.321920 -2.172132 -0.112237 -3.442057 -0.451088 -3.415616 -4.261961  \n7997  1.352735 -2.071831 -0.339600 -3.095332 -0.196552 -2.848805 -3.248065  \n7998  1.383549 -2.006250 -0.624768 -2.713934  0.131260 -2.393813 -1.937326  \n7999  1.402807 -1.925238 -0.952326 -2.297865  0.316378 -2.120047 -0.433831  \n\n[8000 rows x 140 columns]",
      "text/html": "<div>\n<style scoped>\n    .dataframe tbody tr th:only-of-type {\n        vertical-align: middle;\n    }\n\n    .dataframe tbody tr th {\n        vertical-align: top;\n    }\n\n    .dataframe thead th {\n        text-align: right;\n    }\n</style>\n<table border=\"1\" class=\"dataframe\">\n  <thead>\n    <tr style=\"text-align: right;\">\n      <th></th>\n      <th>1-1</th>\n      <th>1-2</th>\n      <th>1-3</th>\n      <th>1-4</th>\n      <th>1-5</th>\n      <th>1-6</th>\n      <th>1-7</th>\n      <th>1-8</th>\n      <th>1-9</th>\n      <th>1-10</th>\n      <th>...</th>\n      <th>7-11</th>\n      <th>7-12</th>\n      <th>7-13</th>\n      <th>7-14</th>\n      <th>7-15</th>\n      <th>7-16</th>\n      <th>7-17</th>\n      <th>7-18</th>\n      <th>7-19</th>\n      <th>7-20</th>\n    </tr>\n  </thead>\n  <tbody>\n    <tr>\n      <th>0</th>\n      <td>0.031847</td>\n      <td>0.016663</td>\n      <td>0.020103</td>\n      <td>0.005837</td>\n      <td>-0.011276</td>\n      <td>-0.025771</td>\n      <td>0.021692</td>\n      <td>0.009281</td>\n      <td>0.010529</td>\n      <td>0.001247</td>\n      <td>...</td>\n      <td>-0.117107</td>\n      <td>-0.074528</td>\n      <td>0.624229</td>\n      <td>0.301207</td>\n      <td>0.474272</td>\n      <td>0.045762</td>\n      <td>-0.668258</td>\n      <td>1.265104</td>\n      <td>0.004534</td>\n      <td>-0.009769</td>\n    </tr>\n    <tr>\n      <th>1</th>\n      <td>-0.011189</td>\n      <td>-0.002048</td>\n      <td>0.006537</td>\n      <td>0.023145</td>\n      <td>0.012113</td>\n      <td>-0.017351</td>\n      <td>0.010933</td>\n      <td>-0.003817</td>\n      <td>0.004915</td>\n      <td>-0.007641</td>\n      <td>...</td>\n      <td>-0.113252</td>\n      <td>-0.086088</td>\n      <td>0.658908</td>\n      <td>0.339724</td>\n      <td>0.458840</td>\n      <td>-0.077554</td>\n      <td>-0.833916</td>\n      <td>1.110840</td>\n      <td>0.004534</td>\n      <td>0.005652</td>\n    </tr>\n    <tr>\n      <th>2</th>\n      <td>-0.019609</td>\n      <td>-0.007661</td>\n      <td>-0.002818</td>\n      <td>0.003030</td>\n      <td>0.021468</td>\n      <td>-0.009866</td>\n      <td>0.007658</td>\n      <td>-0.004752</td>\n      <td>0.003980</td>\n      <td>-0.002028</td>\n      <td>...</td>\n      <td>-0.113252</td>\n      <td>-0.105354</td>\n      <td>0.709001</td>\n      <td>0.378242</td>\n      <td>0.466556</td>\n      <td>-0.154626</td>\n      <td>-0.972605</td>\n      <td>0.891012</td>\n      <td>0.004534</td>\n      <td>-0.013624</td>\n    </tr>\n    <tr>\n      <th>3</th>\n      <td>0.019685</td>\n      <td>0.007308</td>\n      <td>-0.002351</td>\n      <td>-0.019423</td>\n      <td>0.004160</td>\n      <td>-0.003318</td>\n      <td>0.005787</td>\n      <td>-0.018318</td>\n      <td>-0.022216</td>\n      <td>-0.028223</td>\n      <td>...</td>\n      <td>-0.128671</td>\n      <td>-0.086088</td>\n      <td>0.766799</td>\n      <td>0.428314</td>\n      <td>0.466556</td>\n      <td>-0.177748</td>\n      <td>-1.061213</td>\n      <td>0.651903</td>\n      <td>0.000677</td>\n      <td>-0.009769</td>\n    </tr>\n    <tr>\n      <th>4</th>\n      <td>-0.020076</td>\n      <td>0.001226</td>\n      <td>-0.020594</td>\n      <td>0.016596</td>\n      <td>0.013048</td>\n      <td>-0.015948</td>\n      <td>-0.000294</td>\n      <td>-0.023931</td>\n      <td>0.003045</td>\n      <td>-0.024481</td>\n      <td>...</td>\n      <td>-0.093978</td>\n      <td>-0.093794</td>\n      <td>0.828451</td>\n      <td>0.470684</td>\n      <td>0.412548</td>\n      <td>-0.158480</td>\n      <td>-1.057360</td>\n      <td>0.432077</td>\n      <td>0.000677</td>\n      <td>0.001797</td>\n    </tr>\n    <tr>\n      <th>...</th>\n      <td>...</td>\n      <td>...</td>\n      <td>...</td>\n      <td>...</td>\n      <td>...</td>\n      <td>...</td>\n      <td>...</td>\n      <td>...</td>\n      <td>...</td>\n      <td>...</td>\n      <td>...</td>\n      <td>...</td>\n      <td>...</td>\n      <td>...</td>\n      <td>...</td>\n      <td>...</td>\n      <td>...</td>\n      <td>...</td>\n      <td>...</td>\n      <td>...</td>\n      <td>...</td>\n    </tr>\n    <tr>\n      <th>7995</th>\n      <td>-2.936200</td>\n      <td>1.122488</td>\n      <td>1.303684</td>\n      <td>-0.291669</td>\n      <td>-0.145528</td>\n      <td>0.035976</td>\n      <td>0.138636</td>\n      <td>-0.077726</td>\n      <td>0.077889</td>\n      <td>-0.176508</td>\n      <td>...</td>\n      <td>-2.349002</td>\n      <td>2.210447</td>\n      <td>2.928470</td>\n      <td>1.283404</td>\n      <td>-2.303295</td>\n      <td>0.038054</td>\n      <td>-3.661649</td>\n      <td>-0.705624</td>\n      <td>-4.005563</td>\n      <td>-4.921185</td>\n    </tr>\n    <tr>\n      <th>7996</th>\n      <td>-3.392283</td>\n      <td>2.000974</td>\n      <td>0.883152</td>\n      <td>-0.199985</td>\n      <td>0.457904</td>\n      <td>0.205311</td>\n      <td>0.186349</td>\n      <td>-0.010833</td>\n      <td>0.116246</td>\n      <td>-0.133005</td>\n      <td>...</td>\n      <td>1.212779</td>\n      <td>2.722928</td>\n      <td>2.905350</td>\n      <td>1.321920</td>\n      <td>-2.172132</td>\n      <td>-0.112237</td>\n      <td>-3.442057</td>\n      <td>-0.451088</td>\n      <td>-3.415616</td>\n      <td>-4.261961</td>\n    </tr>\n    <tr>\n      <th>7997</th>\n      <td>-2.868840</td>\n      <td>1.194994</td>\n      <td>0.248846</td>\n      <td>0.020338</td>\n      <td>0.813415</td>\n      <td>0.481300</td>\n      <td>0.176526</td>\n      <td>-0.000075</td>\n      <td>0.141039</td>\n      <td>-0.115230</td>\n      <td>...</td>\n      <td>3.170988</td>\n      <td>4.869186</td>\n      <td>2.893791</td>\n      <td>1.352735</td>\n      <td>-2.071831</td>\n      <td>-0.339600</td>\n      <td>-3.095332</td>\n      <td>-0.196552</td>\n      <td>-2.848805</td>\n      <td>-3.248065</td>\n    </tr>\n    <tr>\n      <th>7998</th>\n      <td>-2.935732</td>\n      <td>-0.888954</td>\n      <td>-0.528132</td>\n      <td>0.284164</td>\n      <td>0.943457</td>\n      <td>0.712382</td>\n      <td>0.149862</td>\n      <td>-0.014108</td>\n      <td>0.181735</td>\n      <td>-0.082953</td>\n      <td>...</td>\n      <td>6.343440</td>\n      <td>6.714890</td>\n      <td>2.859112</td>\n      <td>1.383549</td>\n      <td>-2.006250</td>\n      <td>-0.624768</td>\n      <td>-2.713934</td>\n      <td>0.131260</td>\n      <td>-2.393813</td>\n      <td>-1.937326</td>\n    </tr>\n    <tr>\n      <th>7999</th>\n      <td>-2.460470</td>\n      <td>-1.931161</td>\n      <td>-1.347678</td>\n      <td>0.463791</td>\n      <td>0.778332</td>\n      <td>0.655313</td>\n      <td>0.061453</td>\n      <td>-0.024399</td>\n      <td>0.222900</td>\n      <td>-0.043660</td>\n      <td>...</td>\n      <td>11.385440</td>\n      <td>8.868855</td>\n      <td>2.797460</td>\n      <td>1.402807</td>\n      <td>-1.925238</td>\n      <td>-0.952326</td>\n      <td>-2.297865</td>\n      <td>0.316378</td>\n      <td>-2.120047</td>\n      <td>-0.433831</td>\n    </tr>\n  </tbody>\n</table>\n<p>8000 rows × 140 columns</p>\n</div>"
     },
     "execution_count": 5,
     "metadata": {},
     "output_type": "execute_result"
    }
   ],
   "source": [
    "df"
   ],
   "metadata": {
    "collapsed": false,
    "ExecuteTime": {
     "end_time": "2023-06-03T09:08:44.030775600Z",
     "start_time": "2023-06-03T09:08:43.998775100Z"
    }
   }
  },
  {
   "cell_type": "code",
   "execution_count": null,
   "outputs": [],
   "source": [],
   "metadata": {
    "collapsed": false
   }
  }
 ],
 "metadata": {
  "kernelspec": {
   "display_name": "Python 3",
   "language": "python",
   "name": "python3"
  },
  "language_info": {
   "codemirror_mode": {
    "name": "ipython",
    "version": 2
   },
   "file_extension": ".py",
   "mimetype": "text/x-python",
   "name": "python",
   "nbconvert_exporter": "python",
   "pygments_lexer": "ipython2",
   "version": "2.7.6"
  }
 },
 "nbformat": 4,
 "nbformat_minor": 0
}
