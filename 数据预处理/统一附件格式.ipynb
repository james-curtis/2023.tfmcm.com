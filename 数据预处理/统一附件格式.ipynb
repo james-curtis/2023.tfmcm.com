{
 "cells": [
  {
   "cell_type": "code",
   "execution_count": 1,
   "metadata": {
    "collapsed": true,
    "ExecuteTime": {
     "end_time": "2023-06-03T08:51:30.264516700Z",
     "start_time": "2023-06-03T08:51:30.249530200Z"
    }
   },
   "outputs": [],
   "source": [
    "import pandas as pd\n",
    "import numpy as np\n",
    "import seaborn as sns\n",
    "import matplotlib.pyplot as plt\n",
    "import os\n",
    "import tqdm\n",
    "import re\n",
    "\n",
    "plt.rcParams['font.sans-serif'] = ['SimHei']  # 黑体\n",
    "plt.rcParams['axes.unicode_minus'] = False  # 解决无法显示符号的问题\n",
    "palette = 'deep'\n",
    "sns.set(font='SimHei', font_scale=1.2, palette=palette)  # 解决Seaborn中文显示问题"
   ]
  },
  {
   "cell_type": "code",
   "execution_count": 2,
   "outputs": [
    {
     "data": {
      "text/plain": "['../3rd天府杯A提/附件9\\\\1.txt',\n '../3rd天府杯A提/附件9\\\\10.txt',\n '../3rd天府杯A提/附件9\\\\11.txt',\n '../3rd天府杯A提/附件9\\\\12.txt',\n '../3rd天府杯A提/附件9\\\\13.txt',\n '../3rd天府杯A提/附件9\\\\14.txt',\n '../3rd天府杯A提/附件9\\\\15.txt',\n '../3rd天府杯A提/附件9\\\\16.txt',\n '../3rd天府杯A提/附件9\\\\17.txt',\n '../3rd天府杯A提/附件9\\\\18.txt',\n '../3rd天府杯A提/附件9\\\\19.txt',\n '../3rd天府杯A提/附件9\\\\2.txt',\n '../3rd天府杯A提/附件9\\\\20.txt',\n '../3rd天府杯A提/附件9\\\\3.txt',\n '../3rd天府杯A提/附件9\\\\4.txt',\n '../3rd天府杯A提/附件9\\\\5.txt',\n '../3rd天府杯A提/附件9\\\\6.txt',\n '../3rd天府杯A提/附件9\\\\7.txt',\n '../3rd天府杯A提/附件9\\\\8.txt',\n '../3rd天府杯A提/附件9\\\\9.txt']"
     },
     "execution_count": 2,
     "metadata": {},
     "output_type": "execute_result"
    }
   ],
   "source": [
    "\n",
    "attachList = []\n",
    "for dirI in range(1, 9): # range(9, 10)\n",
    "    for root, _, files in os.walk(f'../3rd天府杯A提/附件{dirI}'):\n",
    "        attachList += [f'{os.path.join(root, i)}' for i in files]\n",
    "\n",
    "attachList"
   ],
   "metadata": {
    "collapsed": false,
    "ExecuteTime": {
     "end_time": "2023-06-03T08:51:30.280513500Z",
     "start_time": "2023-06-03T08:51:30.265512900Z"
    }
   }
  },
  {
   "cell_type": "code",
   "execution_count": 3,
   "outputs": [
    {
     "name": "stderr",
     "output_type": "stream",
     "text": [
      "100%|██████████| 20/20 [00:00<00:00, 230.40it/s]\n"
     ]
    }
   ],
   "source": [
    "tqdmList = tqdm.tqdm(attachList)\n",
    "for i in tqdmList:\n",
    "    with open(i, 'r', encoding='utf-8') as f:\n",
    "        text = f.read()\n",
    "        text = re.sub(r'[\\s\\n\\r]+', r'\\n', text)\n",
    "        text = text.strip()\n",
    "    with open(i, 'w', encoding='utf-8') as f:\n",
    "        f.write(text)"
   ],
   "metadata": {
    "collapsed": false,
    "ExecuteTime": {
     "end_time": "2023-06-03T08:51:30.390315700Z",
     "start_time": "2023-06-03T08:51:30.280513500Z"
    }
   }
  },
  {
   "cell_type": "code",
   "execution_count": 3,
   "outputs": [],
   "source": [],
   "metadata": {
    "collapsed": false,
    "ExecuteTime": {
     "end_time": "2023-06-03T08:51:30.408314800Z",
     "start_time": "2023-06-03T08:51:30.391314700Z"
    }
   }
  }
 ],
 "metadata": {
  "kernelspec": {
   "display_name": "Python 3",
   "language": "python",
   "name": "python3"
  },
  "language_info": {
   "codemirror_mode": {
    "name": "ipython",
    "version": 2
   },
   "file_extension": ".py",
   "mimetype": "text/x-python",
   "name": "python",
   "nbconvert_exporter": "python",
   "pygments_lexer": "ipython2",
   "version": "2.7.6"
  }
 },
 "nbformat": 4,
 "nbformat_minor": 0
}
